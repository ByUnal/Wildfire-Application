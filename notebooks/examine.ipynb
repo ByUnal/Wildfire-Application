{
 "cells": [
  {
   "cell_type": "code",
   "execution_count": 1,
   "metadata": {},
   "outputs": [],
   "source": [
    "import sqlite3\n",
    "import pandas as pd\n",
    "import matplotlib.pyplot as plt\n",
    "%matplotlib inline"
   ]
  },
  {
   "cell_type": "code",
   "execution_count": 2,
   "metadata": {
    "tags": []
   },
   "outputs": [],
   "source": [
    "# Enter DB name\n",
    "DB_PATH = '../data/FPA_FOD_20170508.sqlite'"
   ]
  },
  {
   "cell_type": "code",
   "execution_count": 3,
   "metadata": {},
   "outputs": [
    {
     "data": {
      "text/html": [
       "<div>\n",
       "<style scoped>\n",
       "    .dataframe tbody tr th:only-of-type {\n",
       "        vertical-align: middle;\n",
       "    }\n",
       "\n",
       "    .dataframe tbody tr th {\n",
       "        vertical-align: top;\n",
       "    }\n",
       "\n",
       "    .dataframe thead th {\n",
       "        text-align: right;\n",
       "    }\n",
       "</style>\n",
       "<table border=\"1\" class=\"dataframe\">\n",
       "  <thead>\n",
       "    <tr style=\"text-align: right;\">\n",
       "      <th></th>\n",
       "      <th>FIRE_YEAR</th>\n",
       "      <th>DISCOVERY_DATE</th>\n",
       "      <th>STAT_CAUSE_DESCR</th>\n",
       "      <th>STAT_CAUSE_CODE</th>\n",
       "      <th>FIRE_SIZE</th>\n",
       "      <th>FIRE_SIZE_CLASS</th>\n",
       "      <th>LATITUDE</th>\n",
       "      <th>LONGITUDE</th>\n",
       "      <th>STATE</th>\n",
       "      <th>COUNTY</th>\n",
       "      <th>FIPS_NAME</th>\n",
       "    </tr>\n",
       "  </thead>\n",
       "  <tbody>\n",
       "    <tr>\n",
       "      <th>0</th>\n",
       "      <td>2005</td>\n",
       "      <td>2453403.5</td>\n",
       "      <td>Miscellaneous</td>\n",
       "      <td>9.0</td>\n",
       "      <td>0.10</td>\n",
       "      <td>A</td>\n",
       "      <td>40.036944</td>\n",
       "      <td>-121.005833</td>\n",
       "      <td>CA</td>\n",
       "      <td>63</td>\n",
       "      <td>Plumas</td>\n",
       "    </tr>\n",
       "    <tr>\n",
       "      <th>1</th>\n",
       "      <td>2004</td>\n",
       "      <td>2453137.5</td>\n",
       "      <td>Lightning</td>\n",
       "      <td>1.0</td>\n",
       "      <td>0.25</td>\n",
       "      <td>A</td>\n",
       "      <td>38.933056</td>\n",
       "      <td>-120.404444</td>\n",
       "      <td>CA</td>\n",
       "      <td>61</td>\n",
       "      <td>Placer</td>\n",
       "    </tr>\n",
       "    <tr>\n",
       "      <th>2</th>\n",
       "      <td>2004</td>\n",
       "      <td>2453156.5</td>\n",
       "      <td>Debris Burning</td>\n",
       "      <td>5.0</td>\n",
       "      <td>0.10</td>\n",
       "      <td>A</td>\n",
       "      <td>38.984167</td>\n",
       "      <td>-120.735556</td>\n",
       "      <td>CA</td>\n",
       "      <td>17</td>\n",
       "      <td>El Dorado</td>\n",
       "    </tr>\n",
       "    <tr>\n",
       "      <th>3</th>\n",
       "      <td>2004</td>\n",
       "      <td>2453184.5</td>\n",
       "      <td>Lightning</td>\n",
       "      <td>1.0</td>\n",
       "      <td>0.10</td>\n",
       "      <td>A</td>\n",
       "      <td>38.559167</td>\n",
       "      <td>-119.913333</td>\n",
       "      <td>CA</td>\n",
       "      <td>3</td>\n",
       "      <td>Alpine</td>\n",
       "    </tr>\n",
       "    <tr>\n",
       "      <th>4</th>\n",
       "      <td>2004</td>\n",
       "      <td>2453184.5</td>\n",
       "      <td>Lightning</td>\n",
       "      <td>1.0</td>\n",
       "      <td>0.10</td>\n",
       "      <td>A</td>\n",
       "      <td>38.559167</td>\n",
       "      <td>-119.933056</td>\n",
       "      <td>CA</td>\n",
       "      <td>3</td>\n",
       "      <td>Alpine</td>\n",
       "    </tr>\n",
       "  </tbody>\n",
       "</table>\n",
       "</div>"
      ],
      "text/plain": [
       "   FIRE_YEAR  DISCOVERY_DATE STAT_CAUSE_DESCR  STAT_CAUSE_CODE  FIRE_SIZE  \\\n",
       "0       2005       2453403.5    Miscellaneous              9.0       0.10   \n",
       "1       2004       2453137.5        Lightning              1.0       0.25   \n",
       "2       2004       2453156.5   Debris Burning              5.0       0.10   \n",
       "3       2004       2453184.5        Lightning              1.0       0.10   \n",
       "4       2004       2453184.5        Lightning              1.0       0.10   \n",
       "\n",
       "  FIRE_SIZE_CLASS   LATITUDE   LONGITUDE STATE COUNTY  FIPS_NAME  \n",
       "0               A  40.036944 -121.005833    CA     63     Plumas  \n",
       "1               A  38.933056 -120.404444    CA     61     Placer  \n",
       "2               A  38.984167 -120.735556    CA     17  El Dorado  \n",
       "3               A  38.559167 -119.913333    CA      3     Alpine  \n",
       "4               A  38.559167 -119.933056    CA      3     Alpine  "
      ]
     },
     "execution_count": 3,
     "metadata": {},
     "output_type": "execute_result"
    }
   ],
   "source": [
    "# Create connection.\n",
    "cnx = sqlite3.connect(DB_PATH)\n",
    "\n",
    "# Load table into Pandas dataframe\n",
    "df = pd.read_sql_query(\"SELECT FIRE_YEAR, DISCOVERY_DATE, STAT_CAUSE_DESCR, STAT_CAUSE_CODE, FIRE_SIZE, FIRE_SIZE_CLASS, LATITUDE, LONGITUDE, STATE, COUNTY, FIPS_NAME FROM Fires\", cnx)\n",
    "\n",
    "df.head()"
   ]
  },
  {
   "cell_type": "code",
   "execution_count": 4,
   "metadata": {},
   "outputs": [
    {
     "data": {
      "text/plain": [
       "(1880465, 11)"
      ]
     },
     "execution_count": 4,
     "metadata": {},
     "output_type": "execute_result"
    }
   ],
   "source": [
    "df.shape"
   ]
  },
  {
   "cell_type": "code",
   "execution_count": null,
   "metadata": {},
   "outputs": [],
   "source": [
    "# Let's extract data to CSV file to avoid loading time\n",
    "df.to_csv(\"data/1.88_Million_US_Wildfires.csv\")"
   ]
  },
  {
   "cell_type": "markdown",
   "metadata": {},
   "source": [
    "## Have wildfires become more or less frequent over time?"
   ]
  },
  {
   "cell_type": "code",
   "execution_count": 5,
   "metadata": {},
   "outputs": [],
   "source": [
    "df1 = df['FIRE_YEAR'].value_counts().sort_index(ascending = True).reset_index()\n",
    "df1.columns = ['FIRE_YEAR','Count']"
   ]
  },
  {
   "cell_type": "code",
   "execution_count": 6,
   "metadata": {
    "scrolled": false
   },
   "outputs": [
    {
     "data": {
      "image/png": "[encoded data removed]",
      "text/plain": [
       "<Figure size 1152x432 with 1 Axes>"
      ]
     },
     "metadata": {
      "needs_background": "light"
     },
     "output_type": "display_data"
    }
   ],
   "source": [
    "plt.rcParams[\"figure.figsize\"] = (16,6)\n",
    "\n",
    "plt.bar(df1['FIRE_YEAR'], df1['Count'], width=0.6, color = 'c')\n",
    "\n",
    "plt.xlabel('YEARS')\n",
    "plt.ylabel('NUMBER OF WILDFIRES PER YEAR')\n",
    "\n",
    "plt.xticks(df1['FIRE_YEAR'])\n",
    "plt.title('Wildfires over the years')\n",
    "\n",
    "plt.savefig(\"../static/images/over_years.jpg\", bbox_inches='tight')\n",
    "plt.show()"
   ]
  },
  {
   "cell_type": "markdown",
   "metadata": {},
   "source": [
    "**When we look at the graph, we see that there are decreases and increases over time, hence we cannot be certain about whether wildfires become more or less frequent over time**"
   ]
  },
  {
   "cell_type": "markdown",
   "metadata": {},
   "source": [
    "## What counties are the most and least fire-prone?"
   ]
  },
  {
   "cell_type": "markdown",
   "metadata": {},
   "source": [
    "If we sort the number of Wildfires for each County, we can have an insight to understand the most and least fire-prone counties"
   ]
  },
  {
   "cell_type": "code",
   "execution_count": 7,
   "metadata": {},
   "outputs": [
    {
     "data": {
      "text/html": [
       "<div>\n",
       "<style scoped>\n",
       "    .dataframe tbody tr th:only-of-type {\n",
       "        vertical-align: middle;\n",
       "    }\n",
       "\n",
       "    .dataframe tbody tr th {\n",
       "        vertical-align: top;\n",
       "    }\n",
       "\n",
       "    .dataframe thead th {\n",
       "        text-align: right;\n",
       "    }\n",
       "</style>\n",
       "<table border=\"1\" class=\"dataframe\">\n",
       "  <thead>\n",
       "    <tr style=\"text-align: right;\">\n",
       "      <th></th>\n",
       "      <th>FIPS_NAME</th>\n",
       "      <th>Count</th>\n",
       "    </tr>\n",
       "  </thead>\n",
       "  <tbody>\n",
       "    <tr>\n",
       "      <th>0</th>\n",
       "      <td>Washington</td>\n",
       "      <td>11014</td>\n",
       "    </tr>\n",
       "    <tr>\n",
       "      <th>1</th>\n",
       "      <td>Lincoln</td>\n",
       "      <td>10571</td>\n",
       "    </tr>\n",
       "    <tr>\n",
       "      <th>2</th>\n",
       "      <td>Jackson</td>\n",
       "      <td>9902</td>\n",
       "    </tr>\n",
       "    <tr>\n",
       "      <th>3</th>\n",
       "      <td>Marion</td>\n",
       "      <td>8908</td>\n",
       "    </tr>\n",
       "    <tr>\n",
       "      <th>4</th>\n",
       "      <td>Cherokee</td>\n",
       "      <td>8558</td>\n",
       "    </tr>\n",
       "    <tr>\n",
       "      <th>...</th>\n",
       "      <td>...</td>\n",
       "      <td>...</td>\n",
       "    </tr>\n",
       "    <tr>\n",
       "      <th>1673</th>\n",
       "      <td>Richmond (city)</td>\n",
       "      <td>1</td>\n",
       "    </tr>\n",
       "    <tr>\n",
       "      <th>1675</th>\n",
       "      <td>Pepin</td>\n",
       "      <td>1</td>\n",
       "    </tr>\n",
       "    <tr>\n",
       "      <th>1676</th>\n",
       "      <td>Kingfisher</td>\n",
       "      <td>1</td>\n",
       "    </tr>\n",
       "    <tr>\n",
       "      <th>1677</th>\n",
       "      <td>Dubois</td>\n",
       "      <td>1</td>\n",
       "    </tr>\n",
       "    <tr>\n",
       "      <th>1697</th>\n",
       "      <td>Red Lake</td>\n",
       "      <td>1</td>\n",
       "    </tr>\n",
       "  </tbody>\n",
       "</table>\n",
       "<p>1698 rows × 2 columns</p>\n",
       "</div>"
      ],
      "text/plain": [
       "            FIPS_NAME  Count\n",
       "0          Washington  11014\n",
       "1             Lincoln  10571\n",
       "2             Jackson   9902\n",
       "3              Marion   8908\n",
       "4            Cherokee   8558\n",
       "...               ...    ...\n",
       "1673  Richmond (city)      1\n",
       "1675            Pepin      1\n",
       "1676       Kingfisher      1\n",
       "1677           Dubois      1\n",
       "1697         Red Lake      1\n",
       "\n",
       "[1698 rows x 2 columns]"
      ]
     },
     "execution_count": 7,
     "metadata": {},
     "output_type": "execute_result"
    }
   ],
   "source": [
    "df2 = df['FIPS_NAME'].value_counts().reset_index()\n",
    "df2.columns = ['FIPS_NAME','Count']\n",
    "df2.sort_values(by='Count', ascending=False)"
   ]
  },
  {
   "cell_type": "markdown",
   "metadata": {},
   "source": [
    "**When we look at the dataframe, we can clearly say that the least fire-prone counties are the ones which have 1 wildfire over the years.**"
   ]
  },
  {
   "cell_type": "code",
   "execution_count": 8,
   "metadata": {},
   "outputs": [
    {
     "data": {
      "text/plain": [
       "1662                    Wells\n",
       "1663                   Rogers\n",
       "1664                   Garden\n",
       "1665                Ascension\n",
       "1666                  Fairfax\n",
       "1667                 Canadian\n",
       "1668                Faribault\n",
       "1669                Hillsdale\n",
       "1670                     Love\n",
       "1671         Gurabo Municipio\n",
       "1672                    Toole\n",
       "1673          Richmond (city)\n",
       "1674                   Denver\n",
       "1675                    Pepin\n",
       "1676               Kingfisher\n",
       "1677                   Dubois\n",
       "1678                  Gratiot\n",
       "1679                 Costilla\n",
       "1680               Terrebonne\n",
       "1681                Concordia\n",
       "1682           Glacier County\n",
       "1683                 Cuyahoga\n",
       "1684                  O'Brien\n",
       "1685                  Alfalfa\n",
       "1686         Buena Vista City\n",
       "1687             Hampton City\n",
       "1688                   Garvin\n",
       "1689                  Ozaukee\n",
       "1690    Colonial Heights City\n",
       "1691                Pipestone\n",
       "1692            Kodiak Island\n",
       "1693                Milwaukee\n",
       "1694                  Daniels\n",
       "1695                 Freeborn\n",
       "1696                  Kenosha\n",
       "1697                 Red Lake\n",
       "Name: FIPS_NAME, dtype: object"
      ]
     },
     "execution_count": 8,
     "metadata": {},
     "output_type": "execute_result"
    }
   ],
   "source": [
    "# Put the Counties' name into listt to examine clearly\n",
    "least_fire_prone = df2[\"FIPS_NAME\"].loc[df2['Count'] == 1]\n",
    "least_fire_prone"
   ]
  },
  {
   "cell_type": "markdown",
   "metadata": {},
   "source": [
    "**We can see the least fire-prone counties above. If we want to see the most fire-prone counties:**"
   ]
  },
  {
   "cell_type": "markdown",
   "metadata": {},
   "source": [
    "Let's pick top 5 of the most fire-prone counties"
   ]
  },
  {
   "cell_type": "code",
   "execution_count": 9,
   "metadata": {},
   "outputs": [
    {
     "data": {
      "text/plain": [
       "0    Washington\n",
       "1       Lincoln\n",
       "2       Jackson\n",
       "3        Marion\n",
       "4      Cherokee\n",
       "Name: FIPS_NAME, dtype: object"
      ]
     },
     "execution_count": 9,
     "metadata": {},
     "output_type": "execute_result"
    }
   ],
   "source": [
    "most_fire_prone = df2[\"FIPS_NAME\"][:5]\n",
    "most_fire_prone"
   ]
  },
  {
   "cell_type": "markdown",
   "metadata": {},
   "source": [
    "### Which states have the most fires? We can also observe that (Let's take top 10)"
   ]
  },
  {
   "cell_type": "code",
   "execution_count": 11,
   "metadata": {
    "scrolled": true
   },
   "outputs": [
    {
     "data": {
      "image/png": "[encoded data removed]",
      "text/plain": [
       "<Figure size 1152x432 with 1 Axes>"
      ]
     },
     "metadata": {
      "needs_background": "light"
     },
     "output_type": "display_data"
    }
   ],
   "source": [
    "df['STATE'].value_counts().head(n=10).plot(kind='barh', color='r')\n",
    "\n",
    "plt.xlabel('NUMBER OF WILDFIRES PER YEAR')\n",
    "plt.ylabel('STATES')\n",
    "plt.title(\"WILDFIRES IN EACH STATE\")\n",
    "\n",
    "plt.savefig(\"../static/images/state_per_wildfire.jpg\", bbox_inches='tight')\n",
    "plt.show()"
   ]
  },
  {
   "cell_type": "code",
   "execution_count": 10,
   "metadata": {},
   "outputs": [],
   "source": [
    "cursor = cnx.cursor()"
   ]
  },
  {
   "cell_type": "code",
   "execution_count": 11,
   "metadata": {},
   "outputs": [],
   "source": [
    "a = cursor.execute('SELECT FIRE_SIZE, STATE FROM Fires;').fetchall()"
   ]
  }
 ],
 "metadata": {
  "kernelspec": {
   "display_name": "Python 3",
   "language": "python",
   "name": "python3"
  },
  "language_info": {
   "codemirror_mode": {
    "name": "ipython",
    "version": 3
   },
   "file_extension": ".py",
   "mimetype": "text/x-python",
   "name": "python",
   "nbconvert_exporter": "python",
   "pygments_lexer": "ipython3",
   "version": "3.7.6"
  }
 },
 "nbformat": 4,
 "nbformat_minor": 5
}
